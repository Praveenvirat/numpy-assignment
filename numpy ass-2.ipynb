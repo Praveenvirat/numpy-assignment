{
 "cells": [
  {
   "cell_type": "code",
   "execution_count": null,
   "id": "sufficient-machinery",
   "metadata": {},
   "outputs": [],
   "source": [
    "#Find indices of non-zero elements from [1,2,0,0,4,0]\n"
   ]
  },
  {
   "cell_type": "code",
   "execution_count": 1,
   "id": "alive-wagner",
   "metadata": {},
   "outputs": [
    {
     "name": "stdout",
     "output_type": "stream",
     "text": [
      "[0 1 4]\n"
     ]
    }
   ],
   "source": [
    "import numpy as np\n",
    "p=np.array([1,2,0,0,4,0])\n",
    "result=np.where(p!=0)[0]\n",
    "print(result)"
   ]
  },
  {
   "cell_type": "code",
   "execution_count": null,
   "id": "level-pound",
   "metadata": {},
   "outputs": [],
   "source": [
    "#Create a 10x10 array with random values and find the minimum and maximum values"
   ]
  },
  {
   "cell_type": "code",
   "execution_count": 2,
   "id": "saved-destination",
   "metadata": {},
   "outputs": [
    {
     "name": "stdout",
     "output_type": "stream",
     "text": [
      "[[0.16936536 0.77540987 0.20178951 0.62404799 0.44433562 0.70368858\n",
      "  0.08653976 0.97226537 0.16992804 0.00885755]\n",
      " [0.61457312 0.57912247 0.19323481 0.48767012 0.5786106  0.80157629\n",
      "  0.67725696 0.53243749 0.97181524 0.45460397]\n",
      " [0.63018445 0.98016018 0.23629102 0.76700304 0.3932909  0.72031566\n",
      "  0.8663768  0.65925786 0.79828986 0.65114712]\n",
      " [0.72003286 0.97881106 0.65357034 0.67390481 0.47406854 0.67858002\n",
      "  0.24832667 0.05131533 0.08879136 0.914186  ]\n",
      " [0.81598123 0.57935783 0.76785999 0.18115882 0.40758971 0.82718555\n",
      "  0.80630455 0.21594237 0.66888152 0.72573299]\n",
      " [0.14819616 0.83724252 0.23039687 0.41151118 0.17204695 0.22244173\n",
      "  0.01722102 0.56376909 0.7777879  0.28569141]\n",
      " [0.86349285 0.53730199 0.97874498 0.05939173 0.96107014 0.14451993\n",
      "  0.79583452 0.57778357 0.16380796 0.71049996]\n",
      " [0.57225691 0.03136324 0.23346721 0.01376202 0.44631999 0.03265933\n",
      "  0.3268954  0.62239597 0.23317798 0.25195978]\n",
      " [0.21473291 0.0557897  0.89494953 0.6375221  0.50641004 0.67692853\n",
      "  0.89502502 0.02615139 0.72288712 0.30265802]\n",
      " [0.23701278 0.53017185 0.04640641 0.22730833 0.17386069 0.85123707\n",
      "  0.87720611 0.27157906 0.15560848 0.3307521 ]]\n",
      "maximum and minimum values are\n",
      "0.9801601838243473 0.00885755132809063\n"
     ]
    }
   ],
   "source": [
    "import numpy as np\n",
    "b=np.random.random((10,10))\n",
    "bmax,bmin=b.max(),b.min()\n",
    "print(b)\n",
    "print('maximum and minimum values are')\n",
    "print(bmax,bmin)"
   ]
  },
  {
   "cell_type": "code",
   "execution_count": null,
   "id": "medical-might",
   "metadata": {},
   "outputs": [],
   "source": [
    "#Create a random vector of size 30 and find the mean value."
   ]
  },
  {
   "cell_type": "code",
   "execution_count": 3,
   "id": "weekly-hudson",
   "metadata": {},
   "outputs": [
    {
     "name": "stdout",
     "output_type": "stream",
     "text": [
      "[0.38426884 0.21814437 0.22902948 0.62764087 0.98592777 0.07490233\n",
      " 0.60107961 0.39602952 0.72511305 0.38929627 0.05678487 0.80179879\n",
      " 0.6773545  0.94673853 0.92045833 0.76460778 0.17947009 0.83203523\n",
      " 0.94463469 0.72622225 0.39504293 0.28117966 0.32939833 0.35703165\n",
      " 0.60765891 0.02136743 0.88561656 0.78549221 0.5631952  0.84789991]\n"
     ]
    },
    {
     "data": {
      "text/plain": [
       "0.5518473316842273"
      ]
     },
     "execution_count": 3,
     "metadata": {},
     "output_type": "execute_result"
    }
   ],
   "source": [
    "w=np.random.random(30)\n",
    "print(w)\n",
    "np.mean(w)"
   ]
  },
  {
   "cell_type": "code",
   "execution_count": null,
   "id": "nuclear-gabriel",
   "metadata": {},
   "outputs": [],
   "source": []
  }
 ],
 "metadata": {
  "kernelspec": {
   "display_name": "Python 3",
   "language": "python",
   "name": "python3"
  },
  "language_info": {
   "codemirror_mode": {
    "name": "ipython",
    "version": 3
   },
   "file_extension": ".py",
   "mimetype": "text/x-python",
   "name": "python",
   "nbconvert_exporter": "python",
   "pygments_lexer": "ipython3",
   "version": "3.9.2"
  }
 },
 "nbformat": 4,
 "nbformat_minor": 5
}
