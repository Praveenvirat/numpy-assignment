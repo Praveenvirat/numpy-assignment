{
 "cells": [
  {
   "cell_type": "code",
   "execution_count": null,
   "id": "meaning-jesus",
   "metadata": {},
   "outputs": [],
   "source": [
    "1#Create a null vector of size 10 but the fifth value which is 1."
   ]
  },
  {
   "cell_type": "code",
   "execution_count": 1,
   "id": "composed-omaha",
   "metadata": {},
   "outputs": [],
   "source": [
    "import numpy as np\n",
    "x=np.zeros(10)\n",
    "x[4]=1"
   ]
  },
  {
   "cell_type": "code",
   "execution_count": 2,
   "id": "ready-gates",
   "metadata": {},
   "outputs": [
    {
     "name": "stdout",
     "output_type": "stream",
     "text": [
      "[0. 0. 0. 0. 1. 0. 0. 0. 0. 0.]\n"
     ]
    }
   ],
   "source": [
    "print(x)"
   ]
  },
  {
   "cell_type": "code",
   "execution_count": null,
   "id": "addressed-bronze",
   "metadata": {},
   "outputs": [],
   "source": [
    "#Create a vector with values ranging from 10 to 49."
   ]
  },
  {
   "cell_type": "code",
   "execution_count": 4,
   "id": "breathing-baking",
   "metadata": {},
   "outputs": [
    {
     "name": "stdout",
     "output_type": "stream",
     "text": [
      "[10 11 12 13 14 15 16 17 18 19 20 21 22 23 24 25 26 27 28 29 30 31 32 33\n",
      " 34 35 36 37 38 39 40 41 42 43 44 45 46 47 48 49]\n"
     ]
    }
   ],
   "source": [
    "z=np.arange(10,50)\n",
    "print(z)"
   ]
  },
  {
   "cell_type": "code",
   "execution_count": null,
   "id": "amino-threat",
   "metadata": {},
   "outputs": [],
   "source": [
    "#Create a 3x3 matrix with values ranging from 0 to 8"
   ]
  },
  {
   "cell_type": "code",
   "execution_count": 9,
   "id": "gorgeous-kitchen",
   "metadata": {},
   "outputs": [
    {
     "name": "stdout",
     "output_type": "stream",
     "text": [
      "[[0 1 2]\n",
      " [3 4 5]\n",
      " [6 7 8]]\n"
     ]
    }
   ],
   "source": [
    "y=np.arange(0,9).reshape(3,3)\n",
    "print(y)"
   ]
  },
  {
   "cell_type": "code",
   "execution_count": null,
   "id": "tropical-taxation",
   "metadata": {},
   "outputs": [],
   "source": [
    "#Find indices of non-zero elements from [1,2,0,0,4,0]\n"
   ]
  },
  {
   "cell_type": "code",
   "execution_count": 17,
   "id": "revolutionary-clear",
   "metadata": {},
   "outputs": [
    {
     "name": "stdout",
     "output_type": "stream",
     "text": [
      "[0 1 4]\n"
     ]
    }
   ],
   "source": [
    "import numpy as np\n",
    "p=np.array([1,2,0,0,4,0])\n",
    "result=np.where(p!=0)[0]\n",
    "print(result)"
   ]
  },
  {
   "cell_type": "code",
   "execution_count": null,
   "id": "spread-cement",
   "metadata": {},
   "outputs": [],
   "source": [
    "#Create a 10x10 array with random values and find the minimum and maximum values"
   ]
  },
  {
   "cell_type": "code",
   "execution_count": 21,
   "id": "contrary-agenda",
   "metadata": {},
   "outputs": [
    {
     "name": "stdout",
     "output_type": "stream",
     "text": [
      "[[0.30752919 0.24098806 0.31478936 0.31110961 0.09720564 0.98513112\n",
      "  0.00682287 0.54326995 0.52989953 0.21067986]\n",
      " [0.7101865  0.72262182 0.76781836 0.46020044 0.30487177 0.95014001\n",
      "  0.06751992 0.94983384 0.16897185 0.19067406]\n",
      " [0.47578921 0.74962975 0.49398147 0.50945298 0.94837363 0.8479281\n",
      "  0.88996572 0.39530252 0.61406552 0.51342667]\n",
      " [0.22681063 0.38026827 0.17519619 0.71004503 0.30643757 0.91554857\n",
      "  0.07513403 0.91622661 0.98888683 0.09758178]\n",
      " [0.46895982 0.27679771 0.13037021 0.14618218 0.74931444 0.39653466\n",
      "  0.14242496 0.284955   0.94031798 0.70225897]\n",
      " [0.85541313 0.43555704 0.62591809 0.75616078 0.97804134 0.7552636\n",
      "  0.23250683 0.09183773 0.39075949 0.47859249]\n",
      " [0.87134279 0.30933139 0.46751008 0.68794856 0.07255774 0.03462891\n",
      "  0.92309577 0.23066688 0.10774329 0.82710434]\n",
      " [0.73244536 0.27299404 0.78632732 0.34666097 0.81906757 0.34913917\n",
      "  0.20123436 0.8069903  0.54699887 0.68894916]\n",
      " [0.60962056 0.89184516 0.59883442 0.82519744 0.45918149 0.1134393\n",
      "  0.09692721 0.51003794 0.87749756 0.31748061]\n",
      " [0.07268717 0.40572787 0.33952477 0.71991246 0.42426218 0.32234716\n",
      "  0.80375166 0.84686108 0.76365575 0.42899885]]\n",
      "maximum and minimum values are\n",
      "0.9888868311022795 0.0068228657457070074\n"
     ]
    }
   ],
   "source": [
    "import numpy as np\n",
    "b=np.random.random((10,10))\n",
    "bmax,bmin=b.max(),b.min()\n",
    "print(b)\n",
    "print('maximum and minimum values are')\n",
    "print(bmax,bmin)\n"
   ]
  },
  {
   "cell_type": "code",
   "execution_count": null,
   "id": "interested-shelf",
   "metadata": {},
   "outputs": [],
   "source": [
    "#Create a random vector of size 30 and find the mean value."
   ]
  },
  {
   "cell_type": "code",
   "execution_count": 22,
   "id": "super-freight",
   "metadata": {},
   "outputs": [],
   "source": [
    "w=np.random.random(30)"
   ]
  },
  {
   "cell_type": "code",
   "execution_count": 23,
   "id": "stuck-recognition",
   "metadata": {},
   "outputs": [
    {
     "name": "stdout",
     "output_type": "stream",
     "text": [
      "[0.47386721 0.41110726 0.31276222 0.84604549 0.5618018  0.33560725\n",
      " 0.99787255 0.49361789 0.34564432 0.4096033  0.72157556 0.34688643\n",
      " 0.57087595 0.95979631 0.22058067 0.61784804 0.30529018 0.93756742\n",
      " 0.52385099 0.91021878 0.02141336 0.05618684 0.73462124 0.12660744\n",
      " 0.28395497 0.93668    0.8064969  0.39222099 0.33285313 0.72388433]\n"
     ]
    }
   ],
   "source": [
    "print(w)"
   ]
  },
  {
   "cell_type": "code",
   "execution_count": 25,
   "id": "jewish-newport",
   "metadata": {},
   "outputs": [
    {
     "data": {
      "text/plain": [
       "0.5239112942219661"
      ]
     },
     "execution_count": 25,
     "metadata": {},
     "output_type": "execute_result"
    }
   ],
   "source": [
    "np.mean(w)"
   ]
  },
  {
   "cell_type": "code",
   "execution_count": null,
   "id": "animal-pioneer",
   "metadata": {},
   "outputs": [],
   "source": []
  }
 ],
 "metadata": {
  "kernelspec": {
   "display_name": "Python 3",
   "language": "python",
   "name": "python3"
  },
  "language_info": {
   "codemirror_mode": {
    "name": "ipython",
    "version": 3
   },
   "file_extension": ".py",
   "mimetype": "text/x-python",
   "name": "python",
   "nbconvert_exporter": "python",
   "pygments_lexer": "ipython3",
   "version": "3.9.2"
  }
 },
 "nbformat": 4,
 "nbformat_minor": 5
}
